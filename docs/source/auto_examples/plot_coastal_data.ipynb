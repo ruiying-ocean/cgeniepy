{
  "cells": [
    {
      "cell_type": "markdown",
      "metadata": {},
      "source": [
        "\n# Plot coastal only data\n\nThis example shows how to plot the PO4 distribution in each basin.\n\nThis example is independent from GENIE's mask\n"
      ]
    },
    {
      "cell_type": "code",
      "execution_count": null,
      "metadata": {
        "collapsed": false
      },
      "outputs": [],
      "source": [
        "import xarray as xr\nimport cgeniepy\nimport numpy as np\n\nmodel = cgeniepy.sample_model()\n\nsst = model.get_var('ocn_sur_temp').isel(time=-1)\n\n## grid category is a pre-defined 2D data\n## 0: coastal\n## 1: land\n## 2: open ocean\ngc = model.grid_category()\n\n## coastal region\nxr.where(gc == 0, sst.data, np.nan).plot()"
      ]
    }
  ],
  "metadata": {
    "kernelspec": {
      "display_name": "Python 3",
      "language": "python",
      "name": "python3"
    },
    "language_info": {
      "codemirror_mode": {
        "name": "ipython",
        "version": 3
      },
      "file_extension": ".py",
      "mimetype": "text/x-python",
      "name": "python",
      "nbconvert_exporter": "python",
      "pygments_lexer": "ipython3",
      "version": "3.12.5"
    }
  },
  "nbformat": 4,
  "nbformat_minor": 0
}