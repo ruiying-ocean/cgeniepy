{
  "cells": [
    {
      "cell_type": "markdown",
      "metadata": {},
      "source": [
        "\n# Plot Comparison Between Arrays\n\nThis example shows how to build the ArrComparison class plot the comparison.\n"
      ]
    },
    {
      "cell_type": "code",
      "execution_count": null,
      "metadata": {
        "collapsed": false
      },
      "outputs": [],
      "source": [
        "from cgeniepy.skill import ArrComparison\nimport numpy as np\n\nnp.random.seed(2024)\nx = np.random.rand(100)\ny = x + np.random.normal(0, 0.1, 100)\n\n## calculate skill score\nac = ArrComparison(x, y)\nac.plot(marker='x')"
      ]
    }
  ],
  "metadata": {
    "kernelspec": {
      "display_name": "Python 3",
      "language": "python",
      "name": "python3"
    },
    "language_info": {
      "codemirror_mode": {
        "name": "ipython",
        "version": 3
      },
      "file_extension": ".py",
      "mimetype": "text/x-python",
      "name": "python",
      "nbconvert_exporter": "python",
      "pygments_lexer": "ipython3",
      "version": "3.12.5"
    }
  },
  "nbformat": 4,
  "nbformat_minor": 0
}