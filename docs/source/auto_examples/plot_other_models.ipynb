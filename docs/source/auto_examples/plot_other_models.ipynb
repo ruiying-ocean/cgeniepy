{
  "cells": [
    {
      "cell_type": "markdown",
      "metadata": {},
      "source": [
        "\n# Plot Other Models' output\n\nThis example shows how to use cgeniepy to plot gridded data from other models (CESM and HadCM3 here).\nYou can download them from https://zenodo.org/records/13786014.\n"
      ]
    },
    {
      "cell_type": "code",
      "execution_count": null,
      "metadata": {
        "collapsed": false
      },
      "outputs": [],
      "source": [
        "from cgeniepy.array import GriddedData\nimport xarray as xr\nimport matplotlib.pyplot as plt\nimport cartopy.crs as ccrs\nimport subprocess\n\n## Download necessary files, you need to install zenodo_get first\n## by `pip install zenodo_get`, or, just download it from the link above\nsubprocess.call([\"zenodo_get\", \"10.5281/zenodo.13786013\", \"-o\", \"~/Downloads/\"])\n\n\n## read in the data\ncesm_lgm = xr.load_dataset(\"~/Downloads/CESM_LGM_var_regrid.nc\")\n## construct GriddedData object\ncesm_temp = GriddedData(cesm_lgm['TEMP'], mutable=False, attrs=cesm_lgm['TEMP'].attrs)\n\n## same for HadCM3L\nhadcm3_lgm=  xr.load_dataset(\"~/Downloads/teitu_020_o.pgclann.nc\", decode_times=False)\nhadcm3_temp = GriddedData(hadcm3_lgm['temp_ym_dpth'], mutable=False, attrs=hadcm3_lgm['temp_ym_dpth'].attrs)\n\nfig, axs = plt.subplots(1, 2, figsize=(10, 5), subplot_kw={'projection': ccrs.Robinson()})\n\np = cesm_temp.isel(time=0,z_t=0).to_GriddedDataVis()\np.aes_dict['pcolormesh_kwargs']['vmax'] = 30\np.plot(ax=axs[0], outline=True, colorbar=False)\naxs[0].set_title('CESM LGM')\n\np2 = hadcm3_temp.isel(t=0,depth_1=0).to_GriddedDataVis()\np2.aes_dict['pcolormesh_kwargs']['vmax'] = 30\nim = p2.plot(ax=axs[1], outline=True, colorbar=False)\naxs[1].set_title('HadCM3L LGM')\n\nfig.colorbar(im, ax=axs, orientation='horizontal', label='Sea surface temperature (\u00b0C)', fraction=0.05, pad=0.07)"
      ]
    }
  ],
  "metadata": {
    "kernelspec": {
      "display_name": "Python 3",
      "language": "python",
      "name": "python3"
    },
    "language_info": {
      "codemirror_mode": {
        "name": "ipython",
        "version": 3
      },
      "file_extension": ".py",
      "mimetype": "text/x-python",
      "name": "python",
      "nbconvert_exporter": "python",
      "pygments_lexer": "ipython3",
      "version": "3.12.5"
    }
  },
  "nbformat": 4,
  "nbformat_minor": 0
}