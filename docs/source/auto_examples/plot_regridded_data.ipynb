{
  "cells": [
    {
      "cell_type": "markdown",
      "metadata": {},
      "source": [
        "\n# Regrid observational data and compare with cGENIE output\n\nThis example shows how to regrid observational data to cGENIE grids and compare with cGENIE output.\n\nThis example uses many features from the cgeniepy package, including:\n\n#. GirdOperation (eastern to normal longitude conversion)\n\n#. Read cGENIE output\n\n#. Bin observational data to cGENIE grid (a coarse implementation)\n\n#. Visualisation based on cgeniepy's customised plotting functions\n\n#. Compare model and observational data\n\nThe GLODAPV2 data is from https://glodap.info/index.php/mapped-data-product/.\n"
      ]
    },
    {
      "cell_type": "code",
      "execution_count": null,
      "metadata": {
        "collapsed": false
      },
      "outputs": [],
      "source": [
        "import xarray as xr\nimport numpy as np\nimport matplotlib.pyplot as plt\nimport cartopy.crs as ccrs\n\nimport cgeniepy\nfrom cgeniepy.table import ScatterData\nfrom cgeniepy.grid import GridOperation\nfrom cgeniepy.array import GriddedData\nfrom cgeniepy.model import GenieModel\nfrom cgeniepy.skill import ArrComparison\n\n## load GLODAP temperature data\nglodap_temp = xr.load_dataset(\"~/cgeniepy/examples/GLODAPv2.2016b.temperature.nc\")['temperature']\n## convert to normal longitude from eastern longitude\nglodap_temp = GridOperation().xr_e2n(glodap_temp)\n## convert to ScatterData\nglodap_temp = ScatterData(glodap_temp.isel(depth_surface=0).to_dataframe())\n## bin into genie coordinate and convert back to xarray\nglodap_temp = glodap_temp.to_geniebin(var='temperature').to_xarray()['temperature']\n\n## This is cGENIE output\nmodel = cgeniepy.sample_model()\ngenie_sst = model.get_var('ocn_sur_temp').isel(time=-1).normalise_longitude(method='g2n')\n\n## The binned GLODAP data does not consider how land-sea mask is in cGENIE\n## here just lightly mask the glodap data for better looking\nworlg4_mask = np.isnan(model.get_var('grid_mask').normalise_longitude(method='g2n').data)\nmasked_glodap_temp = glodap_temp.where(~worlg4_mask)\nmasked_glodap_temp = GriddedData(masked_glodap_temp, attrs=glodap_temp.attrs)\nmasked_glodap_temp.attrs['long_name'] = 'GLODAPv2.2016b temperature'\nmasked_glodap_temp.attrs['units'] = 'deg C'\n\n## plot both data\nfig, axs = plt.subplots(1,2,subplot_kw={\"projection\": ccrs.Mollweide()})\nmasked_glodap_temp.plot(ax=axs[0], outline=True, colorbar=True)\ngenie_sst.plot(ax=axs[1], outline=True, colorbar=True)\n\n## calculate the skill score\nprint(\"M-score of sea surface temperature\",ArrComparison(glodap_temp.values, genie_sst.data.values).mscore())"
      ]
    }
  ],
  "metadata": {
    "kernelspec": {
      "display_name": "Python 3",
      "language": "python",
      "name": "python3"
    },
    "language_info": {
      "codemirror_mode": {
        "name": "ipython",
        "version": 3
      },
      "file_extension": ".py",
      "mimetype": "text/x-python",
      "name": "python",
      "nbconvert_exporter": "python",
      "pygments_lexer": "ipython3",
      "version": "3.12.5"
    }
  },
  "nbformat": 4,
  "nbformat_minor": 0
}