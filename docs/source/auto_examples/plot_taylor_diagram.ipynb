{
  "cells": [
    {
      "cell_type": "markdown",
      "metadata": {},
      "source": [
        "\n# Plot Taylor Diagram\n\nThis example uses fake data and fitted model prediction to plot taylor diagram\n\nThe R package open-air has provided a nice explanation on what taylor diagram is:\n     https://bookdown.org/david_carslaw/openair/sections/model-evaluation/taylor-diagram.html (Figure 20.2)\n"
      ]
    },
    {
      "cell_type": "code",
      "execution_count": null,
      "metadata": {
        "collapsed": false
      },
      "outputs": [],
      "source": [
        "import numpy as np\nfrom scipy.optimize import curve_fit\nfrom cgeniepy.skill import ArrComparison, TaylorDiagram\nimport matplotlib.pyplot as plt\n\ndef generate_data(x, a, b, c, noise=0.5):\n    y = a * np.exp(-b * x) + c  # Exponential function\n    np.random.seed(90148)\n    noise = np.random.normal(0, noise, size=len(x))\n    return y + noise\n\ndef exp_func(x, a, b, c):\n    return a * np.exp(-b * x) + c\n\ndef linear_func(x, a, b):\n    return a * x + b\n\n# Generate random data\nx = np.linspace(0, 10, 50)\ny = generate_data(x, 5, 0.3, 2)\n\n## linear model\npopt, pcov = curve_fit(linear_func, x, y)\nfit1 = linear_func(x, *popt)\n\n## exp model\npopt2, pcov2 = curve_fit(exp_func, x, y)\nfit2 = exp_func(x, *popt2)\n\n## Create Comparison instance\nac1 = ArrComparison(y, fit1, 'linear')\nac2 = ArrComparison(y, fit2, 'exponential')\n\n## Create TaylorDiagram instance\ndiagram = TaylorDiagram([ac1, ac2])\ndiagram.setup_ax(crmse_contour=True)\ndiagram.plot(s=20)\nplt.show()"
      ]
    }
  ],
  "metadata": {
    "kernelspec": {
      "display_name": "Python 3",
      "language": "python",
      "name": "python3"
    },
    "language_info": {
      "codemirror_mode": {
        "name": "ipython",
        "version": 3
      },
      "file_extension": ".py",
      "mimetype": "text/x-python",
      "name": "python",
      "nbconvert_exporter": "python",
      "pygments_lexer": "ipython3",
      "version": "3.12.5"
    }
  },
  "nbformat": 4,
  "nbformat_minor": 0
}