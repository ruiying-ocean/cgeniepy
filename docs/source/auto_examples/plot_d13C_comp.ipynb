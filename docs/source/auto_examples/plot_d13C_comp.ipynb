{
  "cells": [
    {
      "cell_type": "markdown",
      "metadata": {},
      "source": [
        "\n# Search the nearest grid point for a given location\n\nThis example is a combination of ScatterData and GriddedData to search the nearest grid point for a given location. I use CESM model output(You can download them from https://zenodo.org/records/13786013) and LGM d13C data from Peterson et al. 2014 (https://agupubs.onlinelibrary.wiley.com/doi/full/10.1002/2013PA002552) as an example.\n"
      ]
    },
    {
      "cell_type": "code",
      "execution_count": null,
      "metadata": {
        "collapsed": false
      },
      "outputs": [],
      "source": [
        "from cgeniepy.table import ScatterData\nfrom cgeniepy.array import GriddedData\nimport xarray as xr\nimport subprocess\n\n## Download necessary files, you need to install zenodo_get first\n## by `pip install zenodo_get`, or, just download it from the link above\nsubprocess.call([\"zenodo_get\", \"10.5281/zenodo.13786013\", \"-o\", \"~/Downloads/\"])\n\n## read in the data and construct GriddedData object\ncesm_lgm = xr.load_dataset(\"~/Downloads/CESM_LGM_var_regrid.nc\")\ncesm_13C = GriddedData(cesm_lgm['CISO_DIC_d13C'], attrs=cesm_lgm['CISO_DIC_d13C'].attrs)\ncesm_13C_last = cesm_13C.isel(time=-1)\n\n## read in the proxy data and construct ScatterData object\nproxy_d13C = ScatterData(\"~/Downloads/LGM_d13c_CLEAN.txt\", delimiter=\"\\t\", header=None)\nproxy_d13C.data.columns = [\"Longitude\", \"Latitude\", \"Depth\", \"observational d13C\",\"Event\"]\nproxy_d13C.set_index([\"Latitude\", \"Longitude\", \"Depth\"])\n\nmodel_data = []\n\nfor i in proxy_d13C.data.index:\n    lat, lon, depth = i\n    depth = depth * 100 ## not necessary for cGENIE whose depth is in m\n    pos = (depth, lat, lon)\n    \n    data = cesm_13C_last.search_point(pos, ignore_na=False)\n\n    model_data.append(data)\n\n## add the model data to the dataframe\nproxy_d13C.data[\"CESM_d13C\"] = model_data\n\n## plot the comparison\n## by default, model data is in the col, and observational col is in the second\nproxy_d13C.compare(\"CESM_d13C\",\"observational d13C\").plot()"
      ]
    }
  ],
  "metadata": {
    "kernelspec": {
      "display_name": "Python 3",
      "language": "python",
      "name": "python3"
    },
    "language_info": {
      "codemirror_mode": {
        "name": "ipython",
        "version": 3
      },
      "file_extension": ".py",
      "mimetype": "text/x-python",
      "name": "python",
      "nbconvert_exporter": "python",
      "pygments_lexer": "ipython3",
      "version": "3.12.5"
    }
  },
  "nbformat": 4,
  "nbformat_minor": 0
}